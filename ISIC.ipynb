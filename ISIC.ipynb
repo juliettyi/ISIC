{
  "nbformat": 4,
  "nbformat_minor": 0,
  "metadata": {
    "colab": {
      "name": "ISIC",
      "version": "0.3.2",
      "provenance": [],
      "collapsed_sections": [
        "B_L_eenWBvpx",
        "iUnIuqxGDmKX"
      ],
      "include_colab_link": true
    },
    "kernelspec": {
      "name": "python3",
      "display_name": "Python 3"
    }
  },
  "cells": [
    {
      "cell_type": "markdown",
      "metadata": {
        "id": "view-in-github",
        "colab_type": "text"
      },
      "source": [
        "<a href=\"https://colab.research.google.com/github/juliettyi/ISIC/blob/master/ISIC.ipynb\" target=\"_parent\"><img src=\"https://colab.research.google.com/assets/colab-badge.svg\" alt=\"Open In Colab\"/></a>"
      ]
    },
    {
      "metadata": {
        "id": "B_L_eenWBvpx",
        "colab_type": "text"
      },
      "cell_type": "markdown",
      "source": [
        "# Load data"
      ]
    },
    {
      "metadata": {
        "id": "CV7qDkq3N2Ib",
        "colab_type": "code",
        "outputId": "ac4ba86c-a550-45f1-efa5-65ed2adea0b6",
        "colab": {
          "base_uri": "https://localhost:8080/",
          "height": 34
        }
      },
      "cell_type": "code",
      "source": [
        "from google.colab import drive\n",
        "drive.mount('/content/gdrive')"
      ],
      "execution_count": 0,
      "outputs": [
        {
          "output_type": "stream",
          "text": [
            "Drive already mounted at /content/gdrive; to attempt to forcibly remount, call drive.mount(\"/content/gdrive\", force_remount=True).\n"
          ],
          "name": "stdout"
        }
      ]
    },
    {
      "metadata": {
        "id": "WPG5Da6kN8pP",
        "colab_type": "code",
        "colab": {}
      },
      "cell_type": "code",
      "source": [
        "import os\n",
        "import pandas as pd\n",
        "\n",
        "BASE_DIR = '/content/gdrive/My Drive/ISIC'\n",
        "df =  pd.read_csv(os.path.join(BASE_DIR, 'meta.csv'), sep=',')"
      ],
      "execution_count": 0,
      "outputs": []
    },
    {
      "metadata": {
        "id": "iUnIuqxGDmKX",
        "colab_type": "text"
      },
      "cell_type": "markdown",
      "source": [
        "# Data Exploration"
      ]
    },
    {
      "metadata": {
        "id": "JcXZ8-rKOB-a",
        "colab_type": "code",
        "outputId": "f90149e7-2567-4128-b143-01c54ceb77ce",
        "colab": {
          "base_uri": "https://localhost:8080/",
          "height": 289
        }
      },
      "cell_type": "code",
      "source": [
        "df.info()"
      ],
      "execution_count": 0,
      "outputs": [
        {
          "output_type": "stream",
          "text": [
            "<class 'pandas.core.frame.DataFrame'>\n",
            "RangeIndex: 23906 entries, 0 to 23905\n",
            "Data columns (total 11 columns):\n",
            "id              23906 non-null object\n",
            "age             23496 non-null float64\n",
            "diag_confirm    23496 non-null object\n",
            "anatom_site     12196 non-null object\n",
            "sex             23484 non-null object\n",
            "diag            23657 non-null object\n",
            "benign          21678 non-null object\n",
            "melanocytic     23661 non-null object\n",
            "y               23906 non-null int64\n",
            "x               23906 non-null int64\n",
            "image_type      23901 non-null object\n",
            "dtypes: float64(1), int64(2), object(8)\n",
            "memory usage: 2.0+ MB\n"
          ],
          "name": "stdout"
        }
      ]
    },
    {
      "metadata": {
        "id": "dfdHXC6RDThr",
        "colab_type": "code",
        "outputId": "160f7547-fe46-4fd5-c350-311dd727a675",
        "colab": {
          "base_uri": "https://localhost:8080/",
          "height": 68
        }
      },
      "cell_type": "code",
      "source": [
        "df['diag_confirm'].unique()"
      ],
      "execution_count": 0,
      "outputs": [
        {
          "output_type": "execute_result",
          "data": {
            "text/plain": [
              "array(['serial imaging showing no change', 'histopathology',\n",
              "       'single image expert consensus', nan,\n",
              "       'confocal microscopy with consensus dermoscopy'], dtype=object)"
            ]
          },
          "metadata": {
            "tags": []
          },
          "execution_count": 142
        }
      ]
    },
    {
      "metadata": {
        "id": "gXM85cUN-8cc",
        "colab_type": "code",
        "outputId": "0ad7b023-b912-406d-f05e-446c5a678b9a",
        "colab": {
          "base_uri": "https://localhost:8080/",
          "height": 34
        }
      },
      "cell_type": "code",
      "source": [
        "df['sex'].unique()"
      ],
      "execution_count": 0,
      "outputs": [
        {
          "output_type": "execute_result",
          "data": {
            "text/plain": [
              "array(['male', nan, 'female'], dtype=object)"
            ]
          },
          "metadata": {
            "tags": []
          },
          "execution_count": 118
        }
      ]
    },
    {
      "metadata": {
        "id": "RKT6bRGWOIfv",
        "colab_type": "code",
        "outputId": "b65bc912-8e95-4267-b43e-0a29eaa2d814",
        "colab": {
          "base_uri": "https://localhost:8080/",
          "height": 357
        }
      },
      "cell_type": "code",
      "source": [
        "df.groupby('diag').size().sort_values(ascending=False)"
      ],
      "execution_count": 0,
      "outputs": [
        {
          "output_type": "execute_result",
          "data": {
            "text/plain": [
              "diag\n",
              "nevus                                 18566\n",
              "melanoma                               2169\n",
              "pigmented benign keratosis             1099\n",
              "basal cell carcinoma                    586\n",
              "seborrheic keratosis                    419\n",
              "actinic keratosis                       329\n",
              "vascular lesion                         142\n",
              "dermatofibroma                          122\n",
              "lentigo NOS                              71\n",
              "solar lentigo                            57\n",
              "squamous cell carcinoma                  29\n",
              "lentigo simplex                          27\n",
              "angioma                                  15\n",
              "atypical melanocytic proliferation       13\n",
              "other                                    10\n",
              "scar                                      1\n",
              "angiofibroma or fibrous papule            1\n",
              "lichenoid keratosis                       1\n",
              "dtype: int64"
            ]
          },
          "metadata": {
            "tags": []
          },
          "execution_count": 5
        }
      ]
    },
    {
      "metadata": {
        "id": "yyHx8huoOyLI",
        "colab_type": "code",
        "outputId": "23ca1a62-ba1f-47cd-8eb9-813798b8855b",
        "colab": {
          "base_uri": "https://localhost:8080/",
          "height": 136
        }
      },
      "cell_type": "code",
      "source": [
        "df.groupby('benign').size().sort_values(ascending=False)"
      ],
      "execution_count": 0,
      "outputs": [
        {
          "output_type": "execute_result",
          "data": {
            "text/plain": [
              "benign\n",
              "benign                     19373\n",
              "malignant                   2286\n",
              "indeterminate                 14\n",
              "indeterminate/benign           3\n",
              "indeterminate/malignant        2\n",
              "dtype: int64"
            ]
          },
          "metadata": {
            "tags": []
          },
          "execution_count": 6
        }
      ]
    },
    {
      "metadata": {
        "id": "h94AxyY8O7NV",
        "colab_type": "code",
        "outputId": "7e779fc9-803b-48f0-c289-b3d17c4eaded",
        "colab": {
          "base_uri": "https://localhost:8080/",
          "height": 364
        }
      },
      "cell_type": "code",
      "source": [
        "df['age'].hist()"
      ],
      "execution_count": 0,
      "outputs": [
        {
          "output_type": "execute_result",
          "data": {
            "text/plain": [
              "<matplotlib.axes._subplots.AxesSubplot at 0x7f9c85631b70>"
            ]
          },
          "metadata": {
            "tags": []
          },
          "execution_count": 15
        },
        {
          "output_type": "display_data",
          "data": {
            "image/png": "[encoded data removed]",
            "text/plain": [
              "<Figure size 576x396 with 1 Axes>"
            ]
          },
          "metadata": {
            "tags": []
          }
        }
      ]
    },
    {
      "metadata": {
        "id": "5yr8yWO0Bzzg",
        "colab_type": "text"
      },
      "cell_type": "markdown",
      "source": [
        "# risk of malignant skin diseases across gender and age"
      ]
    },
    {
      "metadata": {
        "id": "E6WWxTM-zihE",
        "colab_type": "code",
        "colab": {}
      },
      "cell_type": "code",
      "source": [
        "# roughly matches bins by pd.cut(df['age'], 10)\n",
        "bins = [0, 8.5, 17, 25, 35, 42, 50, 60, 68, 77, 85]\n",
        "df['age_bucket'] = pd.cut(df['age'], bins)"
      ],
      "execution_count": 0,
      "outputs": []
    },
    {
      "metadata": {
        "id": "LtcEv6Rd0v17",
        "colab_type": "code",
        "colab": {}
      },
      "cell_type": "code",
      "source": [
        "bad_case = df[df['benign'] == 'malignant']\n",
        "\n",
        "bad_by_age = bad_case.groupby('age_bucket').size()\n",
        "total_by_age = df.groupby('age_bucket').size()\n",
        "\n",
        "risk_by_age = (bad_by_age / total_by_age).reset_index().rename({0:'risk of maligant skin deseases'}, axis='columns')"
      ],
      "execution_count": 0,
      "outputs": []
    },
    {
      "metadata": {
        "id": "ratxVsgH-zlp",
        "colab_type": "code",
        "colab": {}
      },
      "cell_type": "code",
      "source": [
        "female = df[df['sex'] == 'female']\n",
        "female_bad_case = female[female['benign'] == 'malignant']\n",
        "\n",
        "female_bad_by_age = female_bad_case.groupby('age_bucket').size()\n",
        "female_by_age = female.groupby('age_bucket').size()\n",
        "\n",
        "female_risk_by_age = (female_bad_by_age / female_by_age).reset_index().rename({0:'female risk of maligant skin deseases'}, axis='columns')"
      ],
      "execution_count": 0,
      "outputs": []
    },
    {
      "metadata": {
        "id": "_DSAdnrd_lIq",
        "colab_type": "code",
        "colab": {}
      },
      "cell_type": "code",
      "source": [
        "male = df[df['sex'] == 'male']\n",
        "male_bad_case = male[male['benign'] == 'malignant']\n",
        "\n",
        "male_bad_by_age = male_bad_case.groupby('age_bucket').size()\n",
        "male_by_age = male.groupby('age_bucket').size()\n",
        "\n",
        "male_risk_by_age = (male_bad_by_age / male_by_age).reset_index().rename({0:'male risk of maligant skin deseases'}, axis='columns')"
      ],
      "execution_count": 0,
      "outputs": []
    },
    {
      "metadata": {
        "id": "7k1ThwQM3eb-",
        "colab_type": "code",
        "colab": {}
      },
      "cell_type": "code",
      "source": [
        "risks = pd.merge(risk_by_age, female_risk_by_age, on='age_bucket')\n",
        "risks = pd.merge(risks, male_risk_by_age, on='age_bucket')"
      ],
      "execution_count": 0,
      "outputs": []
    },
    {
      "metadata": {
        "id": "htHh8AjhAjjB",
        "colab_type": "code",
        "colab": {}
      },
      "cell_type": "code",
      "source": [
        "debug = pd.concat([total_by_age, bad_by_age, female_by_age, female_bad_by_age, male_by_age, male_bad_by_age], axis=1)"
      ],
      "execution_count": 0,
      "outputs": []
    },
    {
      "metadata": {
        "id": "AoJFSROMA_10",
        "colab_type": "code",
        "outputId": "026fe819-4cd1-4347-9874-ee0e7e25f03d",
        "colab": {
          "base_uri": "https://localhost:8080/",
          "height": 390
        }
      },
      "cell_type": "code",
      "source": [
        "debug"
      ],
      "execution_count": 0,
      "outputs": [
        {
          "output_type": "execute_result",
          "data": {
            "text/html": [
              "<div>\n",
              "<style scoped>\n",
              "    .dataframe tbody tr th:only-of-type {\n",
              "        vertical-align: middle;\n",
              "    }\n",
              "\n",
              "    .dataframe tbody tr th {\n",
              "        vertical-align: top;\n",
              "    }\n",
              "\n",
              "    .dataframe thead th {\n",
              "        text-align: right;\n",
              "    }\n",
              "</style>\n",
              "<table border=\"1\" class=\"dataframe\">\n",
              "  <thead>\n",
              "    <tr style=\"text-align: right;\">\n",
              "      <th></th>\n",
              "      <th>0</th>\n",
              "      <th>1</th>\n",
              "      <th>2</th>\n",
              "      <th>3</th>\n",
              "      <th>4</th>\n",
              "      <th>5</th>\n",
              "    </tr>\n",
              "    <tr>\n",
              "      <th>age_bucket</th>\n",
              "      <th></th>\n",
              "      <th></th>\n",
              "      <th></th>\n",
              "      <th></th>\n",
              "      <th></th>\n",
              "      <th></th>\n",
              "    </tr>\n",
              "  </thead>\n",
              "  <tbody>\n",
              "    <tr>\n",
              "      <th>(0.0, 8.5]</th>\n",
              "      <td>91</td>\n",
              "      <td>1</td>\n",
              "      <td>36</td>\n",
              "      <td>0</td>\n",
              "      <td>55</td>\n",
              "      <td>1</td>\n",
              "    </tr>\n",
              "    <tr>\n",
              "      <th>(8.5, 17.0]</th>\n",
              "      <td>9465</td>\n",
              "      <td>8</td>\n",
              "      <td>3342</td>\n",
              "      <td>4</td>\n",
              "      <td>6123</td>\n",
              "      <td>4</td>\n",
              "    </tr>\n",
              "    <tr>\n",
              "      <th>(17.0, 25.0]</th>\n",
              "      <td>728</td>\n",
              "      <td>44</td>\n",
              "      <td>424</td>\n",
              "      <td>26</td>\n",
              "      <td>304</td>\n",
              "      <td>18</td>\n",
              "    </tr>\n",
              "    <tr>\n",
              "      <th>(25.0, 35.0]</th>\n",
              "      <td>1752</td>\n",
              "      <td>129</td>\n",
              "      <td>1032</td>\n",
              "      <td>85</td>\n",
              "      <td>720</td>\n",
              "      <td>44</td>\n",
              "    </tr>\n",
              "    <tr>\n",
              "      <th>(35.0, 42.0]</th>\n",
              "      <td>1294</td>\n",
              "      <td>93</td>\n",
              "      <td>709</td>\n",
              "      <td>64</td>\n",
              "      <td>585</td>\n",
              "      <td>29</td>\n",
              "    </tr>\n",
              "    <tr>\n",
              "      <th>(42.0, 50.0]</th>\n",
              "      <td>3212</td>\n",
              "      <td>297</td>\n",
              "      <td>1653</td>\n",
              "      <td>129</td>\n",
              "      <td>1559</td>\n",
              "      <td>168</td>\n",
              "    </tr>\n",
              "    <tr>\n",
              "      <th>(50.0, 60.0]</th>\n",
              "      <td>2539</td>\n",
              "      <td>432</td>\n",
              "      <td>1097</td>\n",
              "      <td>165</td>\n",
              "      <td>1442</td>\n",
              "      <td>267</td>\n",
              "    </tr>\n",
              "    <tr>\n",
              "      <th>(60.0, 68.0]</th>\n",
              "      <td>1139</td>\n",
              "      <td>281</td>\n",
              "      <td>426</td>\n",
              "      <td>75</td>\n",
              "      <td>713</td>\n",
              "      <td>206</td>\n",
              "    </tr>\n",
              "    <tr>\n",
              "      <th>(68.0, 77.0]</th>\n",
              "      <td>1984</td>\n",
              "      <td>498</td>\n",
              "      <td>639</td>\n",
              "      <td>139</td>\n",
              "      <td>1345</td>\n",
              "      <td>359</td>\n",
              "    </tr>\n",
              "    <tr>\n",
              "      <th>(77.0, 85.0]</th>\n",
              "      <td>1250</td>\n",
              "      <td>405</td>\n",
              "      <td>377</td>\n",
              "      <td>129</td>\n",
              "      <td>808</td>\n",
              "      <td>266</td>\n",
              "    </tr>\n",
              "  </tbody>\n",
              "</table>\n",
              "</div>"
            ],
            "text/plain": [
              "                 0    1     2    3     4    5\n",
              "age_bucket                                   \n",
              "(0.0, 8.5]      91    1    36    0    55    1\n",
              "(8.5, 17.0]   9465    8  3342    4  6123    4\n",
              "(17.0, 25.0]   728   44   424   26   304   18\n",
              "(25.0, 35.0]  1752  129  1032   85   720   44\n",
              "(35.0, 42.0]  1294   93   709   64   585   29\n",
              "(42.0, 50.0]  3212  297  1653  129  1559  168\n",
              "(50.0, 60.0]  2539  432  1097  165  1442  267\n",
              "(60.0, 68.0]  1139  281   426   75   713  206\n",
              "(68.0, 77.0]  1984  498   639  139  1345  359\n",
              "(77.0, 85.0]  1250  405   377  129   808  266"
            ]
          },
          "metadata": {
            "tags": []
          },
          "execution_count": 135
        }
      ]
    },
    {
      "metadata": {
        "id": "gxzTm-In6B75",
        "colab_type": "code",
        "outputId": "74939bc3-7f23-4048-b542-70e2aca626a5",
        "colab": {
          "base_uri": "https://localhost:8080/",
          "height": 558
        }
      },
      "cell_type": "code",
      "source": [
        "g = risks.plot(xticks=risks.index, rot=90)\n",
        "g.set_xticklabels(risks.age_bucket)"
      ],
      "execution_count": 0,
      "outputs": [
        {
          "output_type": "execute_result",
          "data": {
            "text/plain": [
              "[Text(0, 0, '(0.0, 8.5]'),\n",
              " Text(0, 0, '(8.5, 17.0]'),\n",
              " Text(0, 0, '(17.0, 25.0]'),\n",
              " Text(0, 0, '(25.0, 35.0]'),\n",
              " Text(0, 0, '(35.0, 42.0]'),\n",
              " Text(0, 0, '(42.0, 50.0]'),\n",
              " Text(0, 0, '(50.0, 60.0]'),\n",
              " Text(0, 0, '(60.0, 68.0]'),\n",
              " Text(0, 0, '(68.0, 77.0]'),\n",
              " Text(0, 0, '(77.0, 85.0]')]"
            ]
          },
          "metadata": {
            "tags": []
          },
          "execution_count": 128
        },
        {
          "output_type": "display_data",
          "data": {
            "image/png": "[encoded data removed]",
            "text/plain": [
              "<Figure size 576x396 with 1 Axes>"
            ]
          },
          "metadata": {
            "tags": []
          }
        }
      ]
    },
    {
      "metadata": {
        "id": "VwRImNVwB_VM",
        "colab_type": "text"
      },
      "cell_type": "markdown",
      "source": [
        "# Risk across body site and gender"
      ]
    },
    {
      "metadata": {
        "id": "JsW_Wil0CG-y",
        "colab_type": "code",
        "outputId": "4a31d613-cc20-46da-e049-9fa663066ed7",
        "colab": {
          "base_uri": "https://localhost:8080/",
          "height": 68
        }
      },
      "cell_type": "code",
      "source": [
        "df.columns"
      ],
      "execution_count": 0,
      "outputs": [
        {
          "output_type": "execute_result",
          "data": {
            "text/plain": [
              "Index(['id', 'age', 'diag_confirm', 'anatom_site', 'sex', 'diag', 'benign',\n",
              "       'melanocytic', 'y', 'x', 'image_type', 'age_bucket'],\n",
              "      dtype='object')"
            ]
          },
          "metadata": {
            "tags": []
          },
          "execution_count": 136
        }
      ]
    },
    {
      "metadata": {
        "id": "oe3mKrwhCKGf",
        "colab_type": "code",
        "outputId": "bfd9d397-3826-4cca-9805-5a0eb8f9fc28",
        "colab": {
          "base_uri": "https://localhost:8080/",
          "height": 68
        }
      },
      "cell_type": "code",
      "source": [
        "df['anatom_site'].unique()"
      ],
      "execution_count": 0,
      "outputs": [
        {
          "output_type": "execute_result",
          "data": {
            "text/plain": [
              "array(['lower extremity', 'posterior torso', nan, 'anterior torso',\n",
              "       'upper extremity', 'head/neck', 'lateral torso', 'palms/soles'],\n",
              "      dtype=object)"
            ]
          },
          "metadata": {
            "tags": []
          },
          "execution_count": 137
        }
      ]
    },
    {
      "metadata": {
        "id": "YPeUrli781VJ",
        "colab_type": "code",
        "colab": {}
      },
      "cell_type": "code",
      "source": [
        "bad_case = df[df['benign'] == 'malignant']\n",
        "\n",
        "bad_case_by_site = bad_case.groupby('anatom_site').size()\n",
        "case_by_site = df.groupby('anatom_site').size()\n",
        "\n",
        "risk_by_site = (bad_case_by_site / case_by_site).reset_index().rename({0:'risk of maligant skin deseases'}, axis='columns')"
      ],
      "execution_count": 0,
      "outputs": []
    },
    {
      "metadata": {
        "id": "Mzo0wq00D6kE",
        "colab_type": "code",
        "colab": {}
      },
      "cell_type": "code",
      "source": [
        "female_bad_case = female[female['benign'] == 'malignant']\n",
        "\n",
        "female_bad_case_by_site = female_bad_case.groupby('anatom_site').size()\n",
        "female_case_by_site = female.groupby('anatom_site').size()\n",
        "\n",
        "female_risk_by_site = (female_bad_case_by_site / female_case_by_site).reset_index().rename({0:'female risk of maligant skin deseases'}, axis='columns')"
      ],
      "execution_count": 0,
      "outputs": []
    },
    {
      "metadata": {
        "id": "KZ3K19IGERQJ",
        "colab_type": "code",
        "colab": {}
      },
      "cell_type": "code",
      "source": [
        "male_bad_case = male[male['benign'] == 'malignant']\n",
        "\n",
        "male_bad_case_by_site = male_bad_case.groupby('anatom_site').size()\n",
        "male_case_by_site = male.groupby('anatom_site').size()\n",
        "\n",
        "male_risk_by_site = (male_bad_case_by_site / male_case_by_site).reset_index().rename({0:'male risk of maligant skin deseases'}, axis='columns')"
      ],
      "execution_count": 0,
      "outputs": []
    },
    {
      "metadata": {
        "id": "gxUwvmIUE5oc",
        "colab_type": "code",
        "colab": {}
      },
      "cell_type": "code",
      "source": [
        "debug2 = pd.concat([case_by_site, bad_case_by_site, female_case_by_site, female_bad_case_by_site, male_case_by_site, male_bad_case_by_site], axis=1)"
      ],
      "execution_count": 0,
      "outputs": []
    },
    {
      "metadata": {
        "id": "NNJEj5WSFMgR",
        "colab_type": "code",
        "outputId": "b100df35-c702-460a-8150-0834e9108184",
        "colab": {
          "base_uri": "https://localhost:8080/",
          "height": 297
        }
      },
      "cell_type": "code",
      "source": [
        "debug2"
      ],
      "execution_count": 0,
      "outputs": [
        {
          "output_type": "execute_result",
          "data": {
            "text/html": [
              "<div>\n",
              "<style scoped>\n",
              "    .dataframe tbody tr th:only-of-type {\n",
              "        vertical-align: middle;\n",
              "    }\n",
              "\n",
              "    .dataframe tbody tr th {\n",
              "        vertical-align: top;\n",
              "    }\n",
              "\n",
              "    .dataframe thead th {\n",
              "        text-align: right;\n",
              "    }\n",
              "</style>\n",
              "<table border=\"1\" class=\"dataframe\">\n",
              "  <thead>\n",
              "    <tr style=\"text-align: right;\">\n",
              "      <th></th>\n",
              "      <th>0</th>\n",
              "      <th>1</th>\n",
              "      <th>2</th>\n",
              "      <th>3</th>\n",
              "      <th>4</th>\n",
              "      <th>5</th>\n",
              "    </tr>\n",
              "    <tr>\n",
              "      <th>anatom_site</th>\n",
              "      <th></th>\n",
              "      <th></th>\n",
              "      <th></th>\n",
              "      <th></th>\n",
              "      <th></th>\n",
              "      <th></th>\n",
              "    </tr>\n",
              "  </thead>\n",
              "  <tbody>\n",
              "    <tr>\n",
              "      <th>anterior torso</th>\n",
              "      <td>2127</td>\n",
              "      <td>260</td>\n",
              "      <td>885</td>\n",
              "      <td>55</td>\n",
              "      <td>1200</td>\n",
              "      <td>201</td>\n",
              "    </tr>\n",
              "    <tr>\n",
              "      <th>head/neck</th>\n",
              "      <td>1690</td>\n",
              "      <td>374</td>\n",
              "      <td>710</td>\n",
              "      <td>118</td>\n",
              "      <td>978</td>\n",
              "      <td>255</td>\n",
              "    </tr>\n",
              "    <tr>\n",
              "      <th>lateral torso</th>\n",
              "      <td>75</td>\n",
              "      <td>16</td>\n",
              "      <td>18</td>\n",
              "      <td>1</td>\n",
              "      <td>50</td>\n",
              "      <td>15</td>\n",
              "    </tr>\n",
              "    <tr>\n",
              "      <th>lower extremity</th>\n",
              "      <td>3145</td>\n",
              "      <td>405</td>\n",
              "      <td>1780</td>\n",
              "      <td>240</td>\n",
              "      <td>1327</td>\n",
              "      <td>148</td>\n",
              "    </tr>\n",
              "    <tr>\n",
              "      <th>palms/soles</th>\n",
              "      <td>30</td>\n",
              "      <td>8</td>\n",
              "      <td>16</td>\n",
              "      <td>3</td>\n",
              "      <td>9</td>\n",
              "      <td>3</td>\n",
              "    </tr>\n",
              "    <tr>\n",
              "      <th>posterior torso</th>\n",
              "      <td>3209</td>\n",
              "      <td>538</td>\n",
              "      <td>1257</td>\n",
              "      <td>176</td>\n",
              "      <td>1899</td>\n",
              "      <td>353</td>\n",
              "    </tr>\n",
              "    <tr>\n",
              "      <th>upper extremity</th>\n",
              "      <td>1920</td>\n",
              "      <td>455</td>\n",
              "      <td>899</td>\n",
              "      <td>182</td>\n",
              "      <td>990</td>\n",
              "      <td>261</td>\n",
              "    </tr>\n",
              "  </tbody>\n",
              "</table>\n",
              "</div>"
            ],
            "text/plain": [
              "                    0    1     2    3     4    5\n",
              "anatom_site                                     \n",
              "anterior torso   2127  260   885   55  1200  201\n",
              "head/neck        1690  374   710  118   978  255\n",
              "lateral torso      75   16    18    1    50   15\n",
              "lower extremity  3145  405  1780  240  1327  148\n",
              "palms/soles        30    8    16    3     9    3\n",
              "posterior torso  3209  538  1257  176  1899  353\n",
              "upper extremity  1920  455   899  182   990  261"
            ]
          },
          "metadata": {
            "tags": []
          },
          "execution_count": 151
        }
      ]
    },
    {
      "metadata": {
        "id": "YrbVRv8iEZcP",
        "colab_type": "code",
        "colab": {}
      },
      "cell_type": "code",
      "source": [
        "risks2 = pd.merge(risk_by_site, female_risk_by_site, on='anatom_site')\n",
        "risks2 = pd.merge(risks2, male_risk_by_site, on='anatom_site')"
      ],
      "execution_count": 0,
      "outputs": []
    },
    {
      "metadata": {
        "id": "WmLn1dxN9X2H",
        "colab_type": "code",
        "outputId": "bfad3822-a7fa-4b72-a6bb-c3929364f56d",
        "colab": {
          "base_uri": "https://localhost:8080/",
          "height": 529
        }
      },
      "cell_type": "code",
      "source": [
        "m = risks2.plot(xticks=risks2.index, rot=90, kind='bar')\n",
        "m.set_xticklabels(risks2.anatom_site)\n"
      ],
      "execution_count": 0,
      "outputs": [
        {
          "output_type": "execute_result",
          "data": {
            "text/plain": [
              "[Text(0, 0, 'anterior torso'),\n",
              " Text(0, 0, 'head/neck'),\n",
              " Text(0, 0, 'lateral torso'),\n",
              " Text(0, 0, 'lower extremity'),\n",
              " Text(0, 0, 'palms/soles'),\n",
              " Text(0, 0, 'posterior torso'),\n",
              " Text(0, 0, 'upper extremity')]"
            ]
          },
          "metadata": {
            "tags": []
          },
          "execution_count": 148
        },
        {
          "output_type": "display_data",
          "data": {
            "image/png": "[encoded data removed]",
            "text/plain": [
              "<Figure size 576x396 with 1 Axes>"
            ]
          },
          "metadata": {
            "tags": []
          }
        }
      ]
    }
  ]
}